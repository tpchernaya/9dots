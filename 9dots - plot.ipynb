{
 "cells": [
  {
   "cell_type": "code",
   "execution_count": null,
   "metadata": {},
   "outputs": [],
   "source": [
    "import pandas as pd\n",
    "import numpy as np\n",
    "import scipy.stats as st\n",
    "from datetime import datetime\n",
    "import matplotlib.pyplot as plt\n",
    "import math\n",
    "import glob\n"
   ]
  },
  {
   "cell_type": "code",
   "execution_count": null,
   "metadata": {},
   "outputs": [],
   "source": [
    "filenames = sorted(glob.glob('/Users/tatyanach/Desktop/Cognitive Lab/9 dots/9d_exp_2/*.csv'))\n"
   ]
  },
  {
   "cell_type": "code",
   "execution_count": null,
   "metadata": {},
   "outputs": [],
   "source": [
    "# dot_radius = 180.0\n",
    "\n",
    "for f in range(len(filenames)):\n",
    "    print('participant_id: ' + str(f))\n",
    "    data = pd.read_csv(filenames[f])  \n",
    "\n",
    "    dots = data.iloc[6:9, 1:5]\n",
    "    dots = dots.append(data.iloc[11:14, 1:5], sort = False)\n",
    "    dots = dots.append(data.iloc[16:19, 1:5], sort = False)\n",
    "    dots = dots.rename(columns = {dots.columns[0]:'left_border', dots.columns[1]:'upper_border', dots.columns[2]:'width', dots.columns[3]:'height'})\n",
    "    dots = dots.astype('float')\n",
    "    dots.loc[: , 'left_border'] = 9 * dots.loc[: , 'left_border']\n",
    "    dots.loc[: , 'upper_border'] = 8 * dots.loc[: , 'upper_border']\n",
    "    dots.loc[: , 'width'] = 9 * dots.loc[: , 'width']\n",
    "    dots.loc[: , 'height'] = 8 * dots.loc[: , 'height']\n",
    "    dots['center_x'] = dots['left_border'] + dots['width'] / 2\n",
    "    dots['center_y'] = dots['upper_border'] + dots['height'] / 2 #what should be upper border apparently is lower border\n",
    "    dots = dots.sort_values([\"center_y\", \"center_x\"], ascending=[False, True])\n",
    "    dots = dots.reset_index(drop = True)\n",
    "\n",
    "    main = data.iloc[29:, 1:5]\n",
    "    main = main.rename(columns = {main.columns[0]:'try_number', main.columns[1]:'inner_index', main.columns[2]:'x_value', main.columns[3]:'y_value'})\n",
    "    main = main.reset_index(drop = True)\n",
    "    main = main.astype({'try_number':'int', 'inner_index':'int', 'x_value':'float', 'y_value':'float'})\n",
    "    main.loc[: , 'x_value'] = 9 * main.loc[: , 'x_value']\n",
    "    main.loc[: , 'y_value'] = 8 * main.loc[: , 'y_value']\n",
    "\n",
    "    for t in range(max(main['try_number'])):\n",
    "    #if t < 4 or t > max(main['try_number']) - 3: #we plot only selected tries\n",
    "        print('try number: ' + str(t))\n",
    "        single_try = main[main['try_number'] == t + 1]\n",
    "\n",
    "        fig, axs = plt.subplots(1,1)\n",
    "        for i in range(len(dots)): #plotting the dots in real size\n",
    "            circle = plt.Circle((dots.loc[i, 'center_x'], dots.loc[i, 'center_y']), dot_radius, color='k', alpha = 0.2)\n",
    "            plt.gca().add_patch(circle)   \n",
    "\n",
    "        #plotting the trajectory\n",
    "        plt.plot(single_try['x_value'], single_try['y_value'], 'b')\n",
    "\n",
    "        #marking the beginning\n",
    "        if len(single_try['x_value']) > 20:\n",
    "            plt.plot(single_try.iloc[0:19, 2], single_try.iloc[0:19, 3], 'r', linewidth = 5) \n",
    "\n",
    "        plt.xlim(4000,7500)\n",
    "        plt.ylim(1500, 5000)\n",
    "        axs.set_aspect('equal', 'box')\n",
    "        fig.tight_layout()\n",
    "\n",
    "        plt.show()"
   ]
  },
  {
   "cell_type": "markdown",
   "metadata": {},
   "source": []
  }
 ],
 "metadata": {
  "kernelspec": {
   "display_name": "Python 3",
   "language": "python",
   "name": "python3"
  },
  "language_info": {
   "codemirror_mode": {
    "name": "ipython",
    "version": 3
   },
   "file_extension": ".py",
   "mimetype": "text/x-python",
   "name": "python",
   "nbconvert_exporter": "python",
   "pygments_lexer": "ipython3",
   "version": "3.7.4"
  },
  "widgets": {
   "application/vnd.jupyter.widget-state+json": {
    "state": {},
    "version_major": 2,
    "version_minor": 0
   }
  }
 },
 "nbformat": 4,
 "nbformat_minor": 2
}
